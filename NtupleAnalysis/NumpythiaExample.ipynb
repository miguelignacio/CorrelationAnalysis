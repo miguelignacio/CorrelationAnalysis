{
 "cells": [
  {
   "cell_type": "code",
   "execution_count": 1,
   "metadata": {},
   "outputs": [
    {
     "name": "stdout",
     "output_type": "stream",
     "text": [
      "Welcome to JupyROOT 6.15/01\n"
     ]
    }
   ],
   "source": [
    "%matplotlib inline\n",
    "\n",
    "from numpythia import Pythia, STATUS, HAS_END_VERTEX, ABS_PDG_ID\n",
    "from pyjet import cluster\n",
    "import matplotlib.pyplot as plt\n",
    "import numpy as np\n",
    "import ROOT\n",
    "from ROOT import gRandom, TH1, TH1D, cout, TCanvas\n",
    "ROOT.gStyle.SetOptStat('')\n"
   ]
  },
  {
   "cell_type": "code",
   "execution_count": 2,
   "metadata": {},
   "outputs": [],
   "source": [
    "selection = ((STATUS == 1) & ~HAS_END_VERTEX &\n",
    " (ABS_PDG_ID != 12) & (ABS_PDG_ID != 14) & (ABS_PDG_ID != 16))  #removing neutrinos"
   ]
  },
  {
   "cell_type": "code",
   "execution_count": 8,
   "metadata": {},
   "outputs": [],
   "source": [
    "params = {\n",
    " \"Beams:frameType\":  2,   \n",
    " \"Beams:idA\": 2212, \n",
    " \"Beams:idB\": 11,\n",
    " \"Beams:eA\" : 250,\n",
    " \"Beams:eB\"  : 20,\n",
    " \"WeakBosonExchange:ff2ff(t:gmZ)\": \"on\",\n",
    " \"PhaseSpace:Q2Min\": 10,\n",
    " #\"SpaceShower:dipoleRecoil\": \"on\",\n",
    " \"SpaceShower:pTmaxMatch\": 2,\n",
    " \"PDF:lepton\": \"off\",\n",
    " \"TimeShower:QEDshowerByL\": \"off\",\n",
    "}"
   ]
  },
  {
   "cell_type": "code",
   "execution_count": 3,
   "metadata": {},
   "outputs": [],
   "source": [
    "##PHOTOPRODUCTION"
   ]
  },
  {
   "cell_type": "code",
   "execution_count": null,
   "metadata": {},
   "outputs": [],
   "source": [
    "params = {\n",
    " \"HardQCD:all\": \"on\",\n",
    " \"Beams:eCM\": 100,\n",
    " \"Beams:idA\": 11,\n",
    " \"Beams:idB\": 2212,\n",
    " \"PDF:lepton2gamma\": \"on\",\n",
    " \"Photon:Q2max\":1.0, \n",
    " #\"Photon:Wmin\":10.0,\n",
    " #\"PhaseSpace:pTHatMin\":5.0,\n",
    " \"PhotonParton:all\": \"on\",\n",
    " #\"Photon:ProcessType\":0,\n",
    " \"Main:timesAllowErrors\":10000,\n",
    "}\n"
   ]
  },
  {
   "cell_type": "code",
   "execution_count": null,
   "metadata": {},
   "outputs": [],
   "source": [
    "\n",
    "#    // 4 = direct-direct.\n",
    "#np.dtype([('E', 'f8'), ('px', 'f8'), ('py', 'f8'), ('pz', 'f8'), ('mass', 'f8'),\n",
    "#          ('prodx', 'f8'), ('prody', 'f8'), ('prodz', 'f8'), ('prodt', 'f8'),\n",
    "#          ('pdgid', 'i4'), ('status', 'i4')])"
   ]
  },
  {
   "cell_type": "code",
   "execution_count": 9,
   "metadata": {
    "scrolled": true
   },
   "outputs": [
    {
     "name": "stdout",
     "output_type": "stream",
     "text": [
      "\n",
      " *-------  PYTHIA Process Initialization  --------------------------*\n",
      " |                                                                  |\n",
      " | We collide p+ with e- at a CM energy of 1.414e+02 GeV            |\n",
      " |                                                                  |\n",
      " |------------------------------------------------------------------|\n",
      " |                                                    |             |\n",
      " | Subprocess                                    Code |   Estimated |\n",
      " |                                                    |    max (mb) |\n",
      " |                                                    |             |\n",
      " |------------------------------------------------------------------|\n",
      " |                                                    |             |\n",
      " | f f' -> f f' (t-channel gamma*/Z0)             211 |   1.896e-04 |\n",
      " |                                                                  |\n",
      " *-------  End PYTHIA Process Initialization -----------------------*\n",
      "\n",
      " *-------  PYTHIA Flag + Mode + Parm + Word + FVec + MVec + PVec + WVec Settings (changes only)  ------------------* \n",
      " |                                                                                                                 | \n",
      " | Name                                          |                      Now |      Default         Min         Max | \n",
      " |                                               |                          |                                      | \n",
      " | Beams:eA                                      |                250.00000 |     7000.000         0.0             | \n",
      " | Beams:eB                                      |                 20.00000 |     7000.000         0.0             | \n",
      " | Beams:frameType                               |                        2 |            1           1           5 | \n",
      " | Beams:idB                                     |                       11 |         2212                         | \n",
      " | Init:showChangedParticleData                  |                      off |           on                         | \n",
      " | Init:showMultipartonInteractions              |                      off |           on                         | \n",
      " | Next:numberShowEvent                          |                        0 |            1           0             | \n",
      " | Next:numberShowInfo                           |                        0 |            1           0             | \n",
      " | Next:numberShowProcess                        |                        0 |            1           0             | \n",
      " | PDF:lepton                                    |                      off |           on                         | \n",
      " | PhaseSpace:Q2Min                              |                 10.00000 |          0.0         0.0             | \n",
      " | Random:seed                                   |                        0 |           -1               900000000 | \n",
      " | Random:setSeed                                |                       on |          off                         | \n",
      " | SpaceShower:pTmaxMatch                        |                        2 |            0           0           2 | \n",
      " | TimeShower:QEDshowerByL                       |                      off |           on                         | \n",
      " | WeakBosonExchange:ff2ff(t:gmZ)                |                       on |          off                         | \n",
      " |                                                                                                                 | \n",
      " *-------  End PYTHIA Flag + Mode + Parm + Word + FVec + MVec + PVec + WVec Settings  -----------------------------* \n"
     ]
    }
   ],
   "source": [
    "pythia = Pythia(params=params)"
   ]
  },
  {
   "cell_type": "code",
   "execution_count": 24,
   "metadata": {},
   "outputs": [
    {
     "name": "stderr",
     "output_type": "stream",
     "text": [
      "Warning in <TROOT::Append>: Replacing existing TH1: hpt (Potential memory leak).\n",
      "Warning in <TROOT::Append>: Replacing existing TH1: heta (Potential memory leak).\n",
      "Warning in <TROOT::Append>: Replacing existing TH1: h_nch (Potential memory leak).\n",
      "Warning in <TROOT::Append>: Replacing existing TH1: h_jetpt (Potential memory leak).\n",
      "Warning in <TROOT::Append>: Replacing existing TH1: h_jetmass (Potential memory leak).\n"
     ]
    }
   ],
   "source": [
    "hpt = ROOT.TH1F(\"hpt\",\"hpt\",20,0,10.0)\n",
    "heta = ROOT.TH1F(\"heta\",\"heta\",20,-8.0,8.0)\n",
    "h_nch = ROOT.TH1F(\"h_nch\",\"h_nch\",20,0,20)\n",
    "h_jetpt = ROOT.TH1F(\"h_jetpt\",\"h_jetpt\", 20, 0, 20)\n",
    "h_jetmass = ROOT.TH1F(\"h_jetmass\", \"h_jetmass\", 20,0,20)\n",
    "hpt.Sumw2()\n",
    "heta.Sumw2()\n",
    "h_nch.Sumw2()\n",
    "h_jetpt.Sumw2()\n",
    "h_jetmass.Sumw2()"
   ]
  },
  {
   "cell_type": "code",
   "execution_count": 92,
   "metadata": {},
   "outputs": [
    {
     "name": "stdout",
     "output_type": "stream",
     "text": [
      "proton\n",
      "(250., 2.22044605e-16, 4.4408921e-16, 249.99823929, 0.93827, 0., 0., 0., 0., 2212, 4)\n",
      "electron\n",
      "(20., -2.22044605e-16, 0., -19.99999999, 0.000511, 0., 0., 0., 0., 11, 4)\n",
      "(10.26808737, -1.43523778, -2.46895216, -9.86296029, 0.00051097, 0., 0., 0., 0., 11, 1)\n",
      "('This events has # ', 1, 'jets')\n",
      " jet 6.59815785137   0.618129213858   1.98219569182  mass 3.16508107255  #constituents:  5\n",
      "proton\n",
      "(250., -4.48530102e-14, 1.88737914e-14, 249.99823929, 0.93827, 0., 0., 0., 0., 2212, 4)\n",
      "electron\n",
      "(20., 5.68434189e-14, -7.10542736e-14, -19.99999999, 0.0005111, 0., 0., 0., 0., 11, 4)\n",
      "(19.98423383, -2.5839295, 2.14356153, -19.70020441, 0.00051142, 0., 0., 0., 0., 11, 1)\n",
      "('This events has # ', 0, 'jets')\n",
      "proton\n",
      "(250., 0., 7.77156117e-16, 249.99823929, 0.93827, 0., 0., 0., 0., 2212, 4)\n",
      "electron\n",
      "(20., 0., 1.33226763e-15, -19.99999999, 0.00051101, 0., 0., 0., 0., 11, 4)\n",
      "(11.55215665, -2.32059343, -1.81162829, -11.17072836, 0.000511, 0., 0., 0., 0., 11, 1)\n",
      "('This events has # ', 0, 'jets')\n",
      "proton\n",
      "(250., -2.77555756e-16, -6.66133815e-16, 249.99823929, 0.93827, 0., 0., 0., 0., 2212, 4)\n",
      "electron\n",
      "(20., 0., -3.55271368e-15, -19.99999999, 0.00051099, 0., 0., 0., 0., 11, 4)\n",
      "(17.54343964, 0.69857098, -3.09048502, -17.2549464, 0.000511, 0., 0., 0., 0., 11, 1)\n",
      "('This events has # ', 0, 'jets')\n",
      "proton\n",
      "(250., -2.77555756e-16, -8.8817842e-16, 249.99823929, 0.93827, 0., 0., 0., 0., 2212, 4)\n",
      "electron\n",
      "(20., 2.22044605e-16, -8.8817842e-16, -19.99999999, 0.000511, 0., 0., 0., 0., 11, 4)\n",
      "(11.18802997, -0.92641696, -2.80392104, -10.79128318, 0.00051105, 0., 0., 0., 0., 11, 1)\n",
      "('This events has # ', 0, 'jets')\n",
      "proton\n",
      "(250., -3.68594044e-14, 8.8817842e-15, 249.99823929, 0.93827, 0., 0., 0., 0., 2212, 4)\n",
      "electron\n",
      "(20., -5.68434189e-14, 0., -19.99999999, 0.00051085, 0., 0., 0., 0., 11, 4)\n",
      "(19.97139753, 3.10314545, -0.62918095, -19.71880673, 0.00051083, 0., 0., 0., 0., 11, 1)\n",
      "(7.84102575, 0.10262432, -0.09858209, 7.83973433, 0.000511, 5.04515484e-06, -4.63711732e-06, 0.00031343, 0.00031351, 11, 1)\n",
      "('This events has # ', 0, 'jets')\n",
      "proton\n",
      "(250., -3.33066907e-16, 6.66133815e-16, 249.99823929, 0.93827, 0., 0., 0., 0., 2212, 4)\n",
      "electron\n",
      "(20., 2.22044605e-15, 3.55271368e-15, -19.99999999, 0.00051102, 0., 0., 0., 0., 11, 4)\n",
      "(17.27435687, -1.00821317, -3.33796888, -16.91877286, 0.00051107, 0., 0., 0., 0., 11, 1)\n",
      "('This events has # ', 0, 'jets')\n",
      "proton\n",
      "(250., 7.10542736e-15, -2.66453526e-15, 249.99823929, 0.93827, 0., 0., 0., 0., 2212, 4)\n",
      "electron\n",
      "(20., -1.42108547e-14, -1.42108547e-14, -19.99999999, 0.00051094, 0., 0., 0., 0., 11, 4)\n",
      "(19.72625586, 3.15193424, -2.34389148, -19.33123517, 0.00051096, 0., 0., 0., 0., 11, 1)\n",
      "('This events has # ', 0, 'jets')\n",
      "proton\n",
      "(250., -1.08246745e-15, 1.55431223e-14, 249.99823929, 0.93827, 0., 0., 0., 0., 2212, 4)\n",
      "electron\n",
      "(20., 1.77635684e-15, -1.42108547e-14, -19.99999999, 0.00051085, 0., 0., 0., 0., 11, 4)\n",
      "(19.78876766, 0.32489967, -3.56831395, -19.46167775, 0.00051087, 0., 0., 0., 0., 11, 1)\n",
      "('This events has # ', 0, 'jets')\n",
      "proton\n",
      "(250., 5.55111512e-17, -6.66133815e-16, 249.99823929, 0.93827, 0., 0., 0., 0., 2212, 4)\n",
      "electron\n",
      "(20., 0., -3.55271368e-15, -19.99999999, 0.000511, 0., 0., 0., 0., 11, 4)\n",
      "(14.1500548, -0.88830289, -3.53687752, -13.67206882, 0.00051094, 0., 0., 0., 0., 11, 1)\n",
      "('This events has # ', 1, 'jets')\n",
      " jet 5.67354567518   2.29218289505   1.60394484295  mass 3.83008593739  #constituents:  12\n",
      "\n",
      " *-------  PYTHIA Event and Cross Section Statistics  -------------------------------------------------------------*\n",
      " |                                                                                                                 |\n",
      " | Subprocess                                    Code |            Number of events       |      sigma +- delta    |\n",
      " |                                                    |       Tried   Selected   Accepted |     (estimated) (mb)   |\n",
      " |                                                    |                                   |                        |\n",
      " |-----------------------------------------------------------------------------------------------------------------|\n",
      " |                                                    |                                   |                        |\n",
      " | f f' -> f f' (t-channel gamma*/Z0)             211 |       66533      24288      24288 |   6.956e-05  2.494e-07 |\n",
      " |                                                    |                                   |                        |\n",
      " | sum                                                |       66533      24288      24288 |   6.956e-05  2.494e-07 |\n",
      " |                                                                                                                 |\n",
      " *-------  End PYTHIA Event and Cross Section Statistics ----------------------------------------------------------*\n",
      "\n",
      " *-------  PYTHIA Error and Warning Messages Statistics  ----------------------------------------------------------* \n",
      " |                                                                                                                 | \n",
      " |  times   message                                                                                                | \n",
      " |                                                                                                                 | \n",
      " |      7   Error in BeamRemnants::setOneRemnKinematics: too big beam remnant invariant mass                       | \n",
      " |      2   Error in Pythia::check: energy-momentum not conserved                                                  | \n",
      " |      2   Error in Pythia::next: check of event revealed problems                                                | \n",
      " |      3   Warning in SpaceShower::pT2nextQCD: weight above unity                                                 | \n",
      " |                                                                                                                 | \n",
      " *-------  End PYTHIA Error and Warning Messages Statistics  ------------------------------------------------------* \n"
     ]
    }
   ],
   "source": [
    "for event in pythia(events=10):\n",
    "    if not event: continue\n",
    "        \n",
    "        \n",
    "    #need to find proton, and incoming and outgoing electron to get the DIS variables: Q2, W, Xbj, y\n",
    "    print 'proton'\n",
    "    print event.all()[0]\n",
    "    \n",
    "    \n",
    "    #incoming and outgoing electron:\n",
    "    print 'electron'\n",
    "    for i in event.all():\n",
    "        if i['pdgid']==11 and (i['status']==4 or i['status']==1):\n",
    "            print i\n",
    "\n",
    "    \n",
    "    jets = cluster(event.all(selection &(ABS_PDG_ID != 11)), R=1, p=-1, ep=True).inclusive_jets(ptmin=5)\n",
    "    print('This events has # ', len(jets), 'jets')\n",
    "    for jet in jets:\n",
    "        h_jetpt.Fill(jet.pt)\n",
    "        h_jetmass.Fill(jet.mass)\n",
    "        print ' jet' , jet.pt, ' ' , jet.eta,  ' ' , jet.phi, ' mass', jet.mass, ' #constituents: ' , len(jet)\n",
    "        #look for constituents in jets: \n",
    "        #for constit in jet:\n",
    "            \n",
    "            #print constit\n",
    "            \n",
    "        \n",
    "    nch = 0\n",
    "    for p in event.all(selection & (ABS_PDG_ID == 211)):\n",
    "        pt = np.sqrt(p['px']*p['px']* + p['py']*p['py'])\n",
    "        p3 = np.sqrt(p['px']*p['px']* + p['py']*p['py'] + p['pz']*p['pz'])\n",
    "        eta = 0.5*np.log( (p3 + p['pz'])/(p3-p['pz']))\n",
    "        if(pt<0.050): continue\n",
    "        #print p['E'], ' ', p['pdgid'], ' ', pt\n",
    "        hpt.Fill(pt) \n",
    "        heta.Fill(eta)\n",
    "        nch +=1 \n",
    "    h_nch.Fill(nch)\n",
    "#print ' '\n",
    "    "
   ]
  },
  {
   "cell_type": "code",
   "execution_count": 26,
   "metadata": {},
   "outputs": [
    {
     "name": "stderr",
     "output_type": "stream",
     "text": [
      "Warning in <TCanvas::Constructor>: Deleting canvas with same name: c\n",
      "Info in <TCanvas::Print>: pdf file h_nch.pdf has been created\n",
      "Info in <TCanvas::Print>: pdf file h_eta.pdf has been created\n",
      "Info in <TCanvas::Print>: pdf file h_pt.pdf has been created\n",
      "Info in <TCanvas::Print>: pdf file h_jetpt.pdf has been created\n",
      "Info in <TCanvas::Print>: pdf file h_jetmass.pdf has been created\n"
     ]
    },
    {
     "data": {
      "image/png": "\n",
      "text/plain": [
       "<IPython.core.display.Image object>"
      ]
     },
     "metadata": {},
     "output_type": "display_data"
    }
   ],
   "source": [
    "c = ROOT.TCanvas('c','c',800,800)\n",
    "h_nch.Draw()\n",
    "c.Draw()\n",
    "c.SaveAs(\"h_nch.pdf\")\n",
    "c.Clear()\n",
    "heta.Draw()\n",
    "c.SaveAs(\"h_eta.pdf\")\n",
    "c.Clear()\n",
    "hpt.Draw()\n",
    "ROOT.gPad.SetLogy()\n",
    "c.SaveAs(\"h_pt.pdf\")\n",
    "c.Clear()\n",
    "h_jetpt.Draw()\n",
    "c.SaveAs(\"h_jetpt.pdf\")\n",
    "c.Clear()\n",
    "h_jetmass.Draw()\n",
    "c.SaveAs(\"h_jetmass.pdf\")\n"
   ]
  },
  {
   "cell_type": "code",
   "execution_count": null,
   "metadata": {},
   "outputs": [],
   "source": []
  }
 ],
 "metadata": {
  "kernelspec": {
   "display_name": "Python 2",
   "language": "python",
   "name": "python2"
  },
  "language_info": {
   "codemirror_mode": {
    "name": "ipython",
    "version": 2
   },
   "file_extension": ".py",
   "mimetype": "text/x-python",
   "name": "python",
   "nbconvert_exporter": "python",
   "pygments_lexer": "ipython2",
   "version": "2.7.12"
  }
 },
 "nbformat": 4,
 "nbformat_minor": 2
}
