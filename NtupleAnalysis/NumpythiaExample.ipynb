{
 "cells": [
  {
   "cell_type": "code",
   "execution_count": 20,
   "metadata": {},
   "outputs": [],
   "source": [
    "%matplotlib inline\n",
    "\n",
    "from numpythia import Pythia, STATUS, HAS_END_VERTEX, ABS_PDG_ID\n",
    "from pyjet import cluster\n",
    "import matplotlib.pyplot as plt\n",
    "import numpy as np\n",
    "import ROOT\n",
    "from ROOT import gRandom, TH1, TH1D, cout, TCanvas\n",
    "ROOT.gStyle.SetOptStat('')\n"
   ]
  },
  {
   "cell_type": "code",
   "execution_count": 21,
   "metadata": {},
   "outputs": [],
   "source": [
    "selection = ((STATUS == 1) & ~HAS_END_VERTEX &\n",
    " (ABS_PDG_ID != 12) & (ABS_PDG_ID != 14) & (ABS_PDG_ID != 16))  #removing neutrinos"
   ]
  },
  {
   "cell_type": "code",
   "execution_count": null,
   "metadata": {},
   "outputs": [],
   "source": []
  },
  {
   "cell_type": "code",
   "execution_count": 27,
   "metadata": {},
   "outputs": [],
   "source": [
    "params = {\n",
    " \"HardQCD:all\": \"on\",\n",
    " \"Beams:eCM\": 100,\n",
    " \"Beams:idA\": 11,\n",
    " \"Beams:idB\": 2212,\n",
    " \"PDF:lepton2gamma\": \"on\",\n",
    " \"Photon:Q2max\":1.0, \n",
    " \"Photon:Wmin\":10.0,\n",
    " \"PhaseSpace:pTHatMin\":5.0,\n",
    " \"PhotonParton:all\": \"on\",\n",
    " \"Photon:ProcessType\":0,\n",
    " \"Main:timesAllowErrors\":100,\n",
    "}\n"
   ]
  },
  {
   "cell_type": "code",
   "execution_count": 23,
   "metadata": {},
   "outputs": [],
   "source": [
    "#// Set the type of gamma-gamma process:\n",
    "#    // 0 = mix of all below,\n",
    "#    // 1 = resolved-resolved,\n",
    "#    // 2 = resolved-direct,\n",
    "#    // 3 = direct-resolved,\n",
    "#    // 4 = direct-direct.\n",
    "#np.dtype([('E', 'f8'), ('px', 'f8'), ('py', 'f8'), ('pz', 'f8'), ('mass', 'f8'),\n",
    "#          ('prodx', 'f8'), ('prody', 'f8'), ('prodz', 'f8'), ('prodt', 'f8'),\n",
    "#          ('pdgid', 'i4'), ('status', 'i4')])"
   ]
  },
  {
   "cell_type": "code",
   "execution_count": 28,
   "metadata": {},
   "outputs": [
    {
     "name": "stdout",
     "output_type": "stream",
     "text": [
      "\n",
      " *-------  PYTHIA Process Initialization  --------------------------*\n",
      " |                                                                  |\n",
      " | We collide e- with p+ at a CM energy of 1.000e+02 GeV            |\n",
      " |                                                                  |\n",
      " |------------------------------------------------------------------|\n",
      " |                                                    |             |\n",
      " | Subprocess                                    Code |   Estimated |\n",
      " |                                                    |    max (mb) |\n",
      " |                                                    |             |\n",
      " |------------------------------------------------------------------|\n",
      " |                                                    |             |\n",
      " | g g -> g g                                     111 |   2.266e-05 |\n",
      " | g g -> q qbar (uds)                            112 |   5.674e-07 |\n",
      " | q g -> q g                                     113 |   7.486e-05 |\n",
      " | q q(bar)' -> q q(bar)'                         114 |   3.775e-05 |\n",
      " | q qbar -> g g                                  115 |   7.965e-07 |\n",
      " | q qbar -> q' qbar' (uds)                       116 |   4.301e-07 |\n",
      " | g g -> c cbar                                  121 |   1.528e-07 |\n",
      " | q qbar -> c cbar                               122 |   1.282e-07 |\n",
      " | g g -> b bbar                                  123 |   2.939e-08 |\n",
      " | q qbar -> b bbar                               124 |   5.520e-08 |\n",
      " | gamma g -> q qbar (uds)                        281 |   7.557e-06 |\n",
      " | gamma g -> c cbar                              282 |   3.985e-06 |\n",
      " | gamma g -> b bbar                              283 |   2.574e-07 |\n",
      " | gamma q -> q g (udscb)                         284 |   9.913e-06 |\n",
      " |                                                                  |\n",
      " *-------  End PYTHIA Process Initialization -----------------------*\n",
      "\n",
      " *-------  PYTHIA Flag + Mode + Parm + Word + FVec + MVec + PVec + WVec Settings (changes only)  ------------------* \n",
      " |                                                                                                                 | \n",
      " | Name                                          |                      Now |      Default         Min         Max | \n",
      " |                                               |                          |                                      | \n",
      " | Beams:eCM                                     |                100.00000 |    14000.000    10.00000             | \n",
      " | Beams:idA                                     |                       11 |         2212                         | \n",
      " | HardQCD:all                                   |                       on |          off                         | \n",
      " | Init:showChangedParticleData                  |                      off |           on                         | \n",
      " | Init:showMultipartonInteractions              |                      off |           on                         | \n",
      " | Main:timesAllowErrors                         |                      100 |           10           0             | \n",
      " | Next:numberShowEvent                          |                        0 |            1           0             | \n",
      " | Next:numberShowInfo                           |                        0 |            1           0             | \n",
      " | Next:numberShowProcess                        |                        0 |            1           0             | \n",
      " | PDF:lepton2gamma                              |                       on |          off                         | \n",
      " | PhaseSpace:pTHatMin                           |                  5.00000 |          0.0         0.0             | \n",
      " | PhotonParton:all                              |                       on |          off                         | \n",
      " | Random:seed                                   |                        0 |           -1               900000000 | \n",
      " | Random:setSeed                                |                       on |          off                         | \n",
      " |                                                                                                                 | \n",
      " *-------  End PYTHIA Flag + Mode + Parm + Word + FVec + MVec + PVec + WVec Settings  -----------------------------* \n"
     ]
    }
   ],
   "source": [
    "pythia = Pythia(params=params)"
   ]
  },
  {
   "cell_type": "code",
   "execution_count": 25,
   "metadata": {},
   "outputs": [
    {
     "name": "stderr",
     "output_type": "stream",
     "text": [
      "Warning in <TROOT::Append>: Replacing existing TH1: hpt (Potential memory leak).\n",
      "Warning in <TROOT::Append>: Replacing existing TH1: heta (Potential memory leak).\n",
      "Warning in <TROOT::Append>: Replacing existing TH1: h_nch (Potential memory leak).\n"
     ]
    }
   ],
   "source": [
    "hpt = ROOT.TH1F(\"hpt\",\"hpt\",20,0,20.0)\n",
    "heta = ROOT.TH1F(\"heta\",\"heta\",100,-5.0,5.0)\n",
    "h_nch = ROOT.TH1F(\"h_nch\",\"h_nch\",200,0,200)\n",
    "hpt.Sumw2()\n",
    "heta.Sumw2()\n",
    "h_nch.Sumw2()"
   ]
  },
  {
   "cell_type": "code",
   "execution_count": 31,
   "metadata": {},
   "outputs": [
    {
     "ename": "RuntimeError",
     "evalue": "PYTHIA event generation aborted prematurely",
     "output_type": "error",
     "traceback": [
      "\u001b[0;31m\u001b[0m",
      "\u001b[0;31mRuntimeError\u001b[0mTraceback (most recent call last)",
      "\u001b[0;32m<ipython-input-31-2d6da88988b6>\u001b[0m in \u001b[0;36m<module>\u001b[0;34m()\u001b[0m\n\u001b[0;32m----> 1\u001b[0;31m \u001b[0;32mfor\u001b[0m \u001b[0mevent\u001b[0m \u001b[0;32min\u001b[0m \u001b[0mpythia\u001b[0m\u001b[0;34m(\u001b[0m\u001b[0mevents\u001b[0m\u001b[0;34m=\u001b[0m\u001b[0;36m1000\u001b[0m\u001b[0;34m)\u001b[0m\u001b[0;34m:\u001b[0m\u001b[0;34m\u001b[0m\u001b[0m\n\u001b[0m\u001b[1;32m      2\u001b[0m     \u001b[0;31m#if not event: continue\u001b[0m\u001b[0;34m\u001b[0m\u001b[0;34m\u001b[0m\u001b[0m\n\u001b[1;32m      3\u001b[0m \u001b[0;34m\u001b[0m\u001b[0m\n\u001b[1;32m      4\u001b[0m     \u001b[0;31m#jets = cluster(event.all(selection), R=1, p=-1, ep=True).inclusive_jets(ptmin=5)\u001b[0m\u001b[0;34m\u001b[0m\u001b[0;34m\u001b[0m\u001b[0m\n\u001b[1;32m      5\u001b[0m     \u001b[0;31m#print('This events has # ', len(jets), 'jets')\u001b[0m\u001b[0;34m\u001b[0m\u001b[0;34m\u001b[0m\u001b[0m\n",
      "\u001b[0;32mnumpythia/src/_libnumpythia.pyx\u001b[0m in \u001b[0;36m__call__\u001b[0;34m()\u001b[0m\n",
      "\u001b[0;32mnumpythia/src/_libnumpythia.pyx\u001b[0m in \u001b[0;36m_libnumpythia._Pythia.get_next_event\u001b[0;34m()\u001b[0m\n",
      "\u001b[0;31mRuntimeError\u001b[0m: PYTHIA event generation aborted prematurely"
     ]
    }
   ],
   "source": [
    "for event in pythia(events=1000):\n",
    "    #if not event: continue\n",
    "    \n",
    "    #jets = cluster(event.all(selection), R=1, p=-1, ep=True).inclusive_jets(ptmin=5)\n",
    "    #print('This events has # ', len(jets), 'jets')\n",
    "    \n",
    "    #for j in jets:\n",
    "        #if j.pt>4.0:\n",
    "        #    print(j.pt)\n",
    "        #print ' jet' , j.pt, ' ' , j.eta,  ' ' , j.phi\n",
    "    \n",
    "    nch = 0\n",
    "    for p in event.all(selection & (ABS_PDG_ID == 211)):\n",
    "        pt = np.sqrt(p['px']*p['px']* + p['py']*p['py'])\n",
    "        p3 = np.sqrt(p['px']*p['px']* + p['py']*p['py'] + p['pz']*p['pz'])\n",
    "        eta = 0.5*np.log( (p3 + p['pz'])/(p3-p['pz']))\n",
    "        if(pt<0.500): continue\n",
    "        #print p['E'], ' ', p['pdgid'], ' ', pt\n",
    "        #hpt.Fill(pt) \n",
    "        heta.Fill(eta)\n",
    "        nch +=1 \n",
    "    h_nch.Fill(nch)\n",
    "#print ' '\n",
    "    "
   ]
  },
  {
   "cell_type": "code",
   "execution_count": null,
   "metadata": {},
   "outputs": [],
   "source": [
    "c = ROOT.TCanvas('c','c',1600,600)\n",
    "h_nch.Draw()\n",
    "c.Draw()\n",
    "c.SaveAs(\"hpt.pdf\")\n"
   ]
  },
  {
   "cell_type": "code",
   "execution_count": null,
   "metadata": {},
   "outputs": [],
   "source": []
  }
 ],
 "metadata": {
  "kernelspec": {
   "display_name": "Python 2",
   "language": "python",
   "name": "python2"
  },
  "language_info": {
   "codemirror_mode": {
    "name": "ipython",
    "version": 2
   },
   "file_extension": ".py",
   "mimetype": "text/x-python",
   "name": "python",
   "nbconvert_exporter": "python",
   "pygments_lexer": "ipython2",
   "version": "2.7.12"
  }
 },
 "nbformat": 4,
 "nbformat_minor": 2
}
